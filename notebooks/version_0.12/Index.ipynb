{
 "cells": [
  {
   "cell_type": "markdown",
   "metadata": {},
   "source": [
    "# Tutorials - Table of Contents\n",
    "\n",
    "These tutorials are intended to teach the basics of 4D-STEM data analysis with py4DSTEM. <br>\n",
    "\n",
    "\\* - indicates they may not run in Binder\n",
    "### Getting Started\n",
    "- [Quick Start](basics/getting_started.ipynb)\n",
    "\n",
    "### ACOM\n",
    "\n",
    "- [Simulation - ACOM 01 - basics](acom/ACOM_01_basics.ipynb) \n",
    "- [Simulation - ACOM 02 - extended](acom/ACOM_02_Au_sim.ipynb) \n",
    "\n",
    "### Strain Mapping\n",
    "\n",
    "- [Simulation - full size - Ge/SiGe multilayer stack - ideal tilt](strain_simulated/Ge_SiGe_MLs_ideal.ipynb) *\n",
    "- [Simulation - full size - Ge/SiGe multilayer stack - deformed with twist](strain_simulated/Ge_SiGe_MLs_deformed.ipynb) * \n",
    "\n",
    "- [Simulation - binned / cropped - Ge/SiGe multilayer stack - ideal tilt](strain_simulated/small_Ge_SiGe_MLs_ideal.ipynb) *\n",
    "- [Simulation - binned / cropped - Ge/SiGe multilayer stack - deformed with twist](strain_simulated/small_Ge_SiGe_MLs_deformed.ipynb)*\n",
    "- [Simulation - binned / cropped -Ge/SiGe multilayer stack -ideal tilt Dask](strain_simulated/small_Ge_SiGe_MLs_ideal_dask.ipynb) \n",
    "\n",
    "- [Experiment - PTO/DSO](strain_crystalline/PTO_Cornell_correlation.ipynb)\n",
    "- [Experiment - quantum well with some probe misalignments](strain_crystalline/strain_simple_quantum_well.ipynb)\n",
    "\n",
    "### Phase Contrast Imaging\n",
    "- [Differential phase contrast imaging of a carbon nanotube](phase_contrast/DPC_nanotube.ipynb)\n",
    "- [Differential phase contrast imaging of MoS2](phase_contrast/DPC_MoS2.ipynb)\n",
    "\n",
    "### Eliptical Calibration\n",
    "- [Elliptical calibration simulated amorphous halo](eliptical_calibration/ellipticalcalibration_simulated_amorphoushalo.ipynb)\n",
    "- [Elliptical calibration simulated bvm](eliptical_calibration/ellipticalcalibration_simulated_bvm.ipynb)\n",
    "\n",
    "### Probe Templates\n",
    "- [Making probe Templates](probe_template/make_probe_templates.ipynb)\n",
    "\n",
    "###  Reference Paper\n",
    "- [py4DSTEM](#ref_paper)\n"
   ]
  },
  {
   "cell_type": "markdown",
   "metadata": {},
   "source": [
    "---\n",
    "<a class=\"anchor\" id=\"ref_paper\"></a>\n",
    "# py4DSTEM Reference Paper"
   ]
  },
  {
   "cell_type": "code",
   "execution_count": 1,
   "metadata": {},
   "outputs": [
    {
     "data": {
      "text/html": [
       "\n",
       "        <iframe\n",
       "            width=\"1000\"\n",
       "            height=\"1000\"\n",
       "            src=\"../data/py4DSTEM; a software package for multimodal analysis of four-dimensional scanning transmission electron microscopy datasets.pdf\"\n",
       "            frameborder=\"0\"\n",
       "            allowfullscreen\n",
       "        ></iframe>\n",
       "        "
      ],
      "text/plain": [
       "<IPython.lib.display.IFrame at 0x111896932e0>"
      ]
     },
     "execution_count": 1,
     "metadata": {},
     "output_type": "execute_result"
    }
   ],
   "source": [
    "from IPython.display import IFrame\n",
    "IFrame(\"../data/py4DSTEM; a software package for multimodal analysis of four-dimensional scanning transmission electron microscopy datasets.pdf\",\n",
    "       height=1000, width=1000)"
   ]
  },
  {
   "cell_type": "code",
   "execution_count": null,
   "metadata": {},
   "outputs": [],
   "source": []
  }
 ],
 "metadata": {
  "kernelspec": {
   "display_name": "Python 3 (ipykernel)",
   "language": "python",
   "name": "python3"
  },
  "language_info": {
   "codemirror_mode": {
    "name": "ipython",
    "version": 3
   },
   "file_extension": ".py",
   "mimetype": "text/x-python",
   "name": "python",
   "nbconvert_exporter": "python",
   "pygments_lexer": "ipython3",
   "version": "3.8.10"
  },
  "toc": {
   "base_numbering": 1,
   "nav_menu": {},
   "number_sections": true,
   "sideBar": true,
   "skip_h1_title": false,
   "title_cell": "Table of Contents",
   "title_sidebar": "Contents",
   "toc_cell": true,
   "toc_position": {},
   "toc_section_display": true,
   "toc_window_display": false
  },
  "varInspector": {
   "cols": {
    "lenName": 16,
    "lenType": 16,
    "lenVar": 40
   },
   "kernels_config": {
    "python": {
     "delete_cmd_postfix": "",
     "delete_cmd_prefix": "del ",
     "library": "var_list.py",
     "varRefreshCmd": "print(var_dic_list())"
    },
    "r": {
     "delete_cmd_postfix": ") ",
     "delete_cmd_prefix": "rm(",
     "library": "var_list.r",
     "varRefreshCmd": "cat(var_dic_list()) "
    }
   },
   "types_to_exclude": [
    "module",
    "function",
    "builtin_function_or_method",
    "instance",
    "_Feature"
   ],
   "window_display": false
  }
 },
 "nbformat": 4,
 "nbformat_minor": 4
}
